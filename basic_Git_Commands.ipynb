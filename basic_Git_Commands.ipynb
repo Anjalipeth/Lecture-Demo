{
  "nbformat": 4,
  "nbformat_minor": 0,
  "metadata": {
    "colab": {
      "provenance": [],
      "authorship_tag": "ABX9TyNgS6uGcd66GbuJPFblYS6a",
      "include_colab_link": true
    },
    "kernelspec": {
      "name": "python3",
      "display_name": "Python 3"
    },
    "language_info": {
      "name": "python"
    }
  },
  "cells": [
    {
      "cell_type": "markdown",
      "metadata": {
        "id": "view-in-github",
        "colab_type": "text"
      },
      "source": [
        "<a href=\"https://colab.research.google.com/github/Anjalipeth/Lecture-Demo/blob/main/basic_Git_Commands.ipynb\" target=\"_parent\"><img src=\"https://colab.research.google.com/assets/colab-badge.svg\" alt=\"Open In Colab\"/></a>"
      ]
    },
    {
      "cell_type": "markdown",
      "source": [
        "# **Basic Git Commands**"
      ],
      "metadata": {
        "id": "wy4qEUl1npRF"
      }
    },
    {
      "cell_type": "markdown",
      "source": [
        "\n",
        "\n",
        "* Git int\n",
        "* Git clone\n",
        "\n",
        "* Git add\n",
        "* Git commit\n",
        "\n",
        "* Git status\n",
        "* Git branch\n",
        "\n",
        "* Git merge\n",
        "* Git pull\n",
        "\n",
        "* Git push\n",
        "\n",
        "\n",
        "\n",
        "\n",
        "\n",
        "\n",
        "\n",
        "\n",
        "\n"
      ],
      "metadata": {
        "id": "oVUTsuarpIFH"
      }
    },
    {
      "cell_type": "markdown",
      "source": [
        "# **Git int**"
      ],
      "metadata": {
        "id": "bJsBUw7gnu1K"
      }
    },
    {
      "cell_type": "markdown",
      "source": [
        "Initilizes a brand new Git repository and begins tracking an exiting directiry. it adds a hidden subfolder withen the exiting directiry thet houses the internal data structure requried for version control."
      ],
      "metadata": {
        "id": "mfL4zh8xp59S"
      }
    },
    {
      "cell_type": "markdown",
      "source": [
        "# **Git clone**"
      ],
      "metadata": {
        "id": "B6zr7a_oqdtA"
      }
    },
    {
      "cell_type": "markdown",
      "source": [
        "Createsva local copy of a project that alredy exists remotely.The clone includes all the project's files, history, and branches."
      ],
      "metadata": {
        "id": "eUxxGwZ3qlxg"
      }
    },
    {
      "cell_type": "markdown",
      "source": [
        "# **Git add**"
      ],
      "metadata": {
        "id": "8qiqn-Hpq9qi"
      }
    },
    {
      "cell_type": "markdown",
      "source": [],
      "metadata": {
        "id": "uVIFSbDIsZ6y"
      }
    }
  ]
}