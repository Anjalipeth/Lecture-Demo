{
  "nbformat": 4,
  "nbformat_minor": 0,
  "metadata": {
    "colab": {
      "provenance": [],
      "authorship_tag": "ABX9TyMiwoGV3QMiMcR+p8+ror0c",
      "include_colab_link": true
    },
    "kernelspec": {
      "name": "python3",
      "display_name": "Python 3"
    },
    "language_info": {
      "name": "python"
    }
  },
  "cells": [
    {
      "cell_type": "markdown",
      "metadata": {
        "id": "view-in-github",
        "colab_type": "text"
      },
      "source": [
        "<a href=\"https://colab.research.google.com/github/Anjalipeth/Lecture-Demo/blob/main/1_to_28_program(Anjali).ipynb\" target=\"_parent\"><img src=\"https://colab.research.google.com/assets/colab-badge.svg\" alt=\"Open In Colab\"/></a>"
      ]
    },
    {
      "cell_type": "code",
      "execution_count": null,
      "metadata": {
        "colab": {
          "base_uri": "https://localhost:8080/"
        },
        "id": "AHxx_CKdYhWx",
        "outputId": "be52856d-f06d-4b77-afd3-6d4e7e081de8"
      },
      "outputs": [
        {
          "output_type": "stream",
          "name": "stdout",
          "text": [
            "Enter Number 1:5\n",
            "<class 'int'>\n",
            "Enter Number 2:4\n",
            "<class 'float'>\n",
            "<class 'int'>\n",
            "<class 'float'>\n",
            "The sum of 5 and 4.0 is 9.0\n",
            "<class 'int'>\n",
            "<class 'float'>\n",
            "<class 'float'>\n"
          ]
        }
      ],
      "source": [
        "num1=int(input(\"Enter Number 1:\"))\n",
        "print(type(num1))\n",
        "num2=float(input(\"Enter Number 2:\"))\n",
        "print(type(num2))\n",
        "sum = float(num1) + float(num2)\n",
        "print(type(num1))\n",
        "print(type(num2))\n",
        "print('The sum of {0} and {1} is {2}'.format(num1, num2, sum ))\n",
        "print(type(num1))\n",
        "print(type(num2))\n",
        "print(type(sum))\n"
      ]
    },
    {
      "cell_type": "code",
      "source": [
        "a=float(input('enter the first value:'))\n",
        "b=float(input('enter the second value:'))\n",
        "c=float(input('enter the third value:'))\n",
        "s=(a+b+c)/2\n",
        "area = (s*(s-a)*(s-b)*(s-c)) ** 0.5\n",
        "print('The area of the tringle is %0.2f' %area)"
      ],
      "metadata": {
        "colab": {
          "base_uri": "https://localhost:8080/"
        },
        "id": "SVPAthBNaDv9",
        "outputId": "4370cbcf-7a24-46d9-98c8-ecfc6a917814"
      },
      "execution_count": null,
      "outputs": [
        {
          "output_type": "stream",
          "name": "stdout",
          "text": [
            "enter the first value:25\n",
            "enter the second value:22\n",
            "enter the third value:12\n",
            "The area of the tringle is 132.00\n"
          ]
        }
      ]
    },
    {
      "cell_type": "code",
      "source": [
        "b=float(input('enter the base:'))\n",
        "h=float(input('enter the base:'))\n",
        "area=b*h*0.5\n",
        "print(\"area of tringle\", area)"
      ],
      "metadata": {
        "colab": {
          "base_uri": "https://localhost:8080/"
        },
        "id": "EB6G24tpcEfr",
        "outputId": "f012c48b-fa5c-44c1-d62e-29a0a98f6391"
      },
      "execution_count": null,
      "outputs": [
        {
          "output_type": "stream",
          "name": "stdout",
          "text": [
            "enter the base:5\n",
            "enter the base:8\n",
            "area of tringle 20.0\n"
          ]
        }
      ]
    },
    {
      "cell_type": "markdown",
      "source": [
        "# **Square root**"
      ],
      "metadata": {
        "id": "BFy9QXO2cx2h"
      }
    },
    {
      "cell_type": "code",
      "source": [
        "num=int(input(\"enter any no:\"))\n",
        "import math\n",
        "print(math.sqrt(num))"
      ],
      "metadata": {
        "colab": {
          "base_uri": "https://localhost:8080/"
        },
        "id": "CEadO3P2cn8j",
        "outputId": "3f09fe25-410d-43e8-e078-f2cfe07f86b0"
      },
      "execution_count": null,
      "outputs": [
        {
          "output_type": "stream",
          "name": "stdout",
          "text": [
            "enter any no:8\n",
            "2.8284271247461903\n"
          ]
        }
      ]
    },
    {
      "cell_type": "code",
      "source": [
        "num = 4\n",
        "#num = float(input('Enter a number:'))\n",
        "num_sqrt = num ** 0.5\n",
        "print('The square root of %0.3f is %0.3f'%(num, num_sqrt))\n"
      ],
      "metadata": {
        "colab": {
          "base_uri": "https://localhost:8080/"
        },
        "id": "-YhZq8mRdCjA",
        "outputId": "c5317088-def2-45bf-aac4-7f994d63f44c"
      },
      "execution_count": null,
      "outputs": [
        {
          "output_type": "stream",
          "name": "stdout",
          "text": [
            "The square root of 4.000 is 2.000\n"
          ]
        }
      ]
    },
    {
      "cell_type": "code",
      "source": [
        "import cmath\n",
        "num=1+2j\n",
        "num_sqrt=cmath.sqrt(num)\n",
        "print('square root', num_sqrt)"
      ],
      "metadata": {
        "colab": {
          "base_uri": "https://localhost:8080/"
        },
        "id": "ED-zfirydv8L",
        "outputId": "f57909c8-0ab8-4bfa-a7b5-7c20daad5bab"
      },
      "execution_count": null,
      "outputs": [
        {
          "output_type": "stream",
          "name": "stdout",
          "text": [
            "square root (1.272019649514069+0.7861513777574233j)\n"
          ]
        }
      ]
    },
    {
      "cell_type": "markdown",
      "source": [
        "# **Swap two variable with temp variable**"
      ],
      "metadata": {
        "id": "RUCoO42zeFs6"
      }
    },
    {
      "cell_type": "code",
      "source": [
        "#x = input('Enter value of x: ')\n",
        "#y = input('Enter value of y: ')\n",
        "temp = x\n",
        "x = y\n",
        "y =  temp\n",
        "print('The value of x after swapping: {}'.format(x))\n",
        "print('The value of y after swapping: {}'.format(y))"
      ],
      "metadata": {
        "colab": {
          "base_uri": "https://localhost:8080/",
          "height": 216
        },
        "id": "VK-DGKQQeAdD",
        "outputId": "228f31e5-6080-474a-de79-76b0c212a199"
      },
      "execution_count": null,
      "outputs": [
        {
          "output_type": "error",
          "ename": "NameError",
          "evalue": "name 'x' is not defined",
          "traceback": [
            "\u001b[0;31m---------------------------------------------------------------------------\u001b[0m",
            "\u001b[0;31mNameError\u001b[0m                                 Traceback (most recent call last)",
            "\u001b[0;32m<ipython-input-14-82202d617869>\u001b[0m in \u001b[0;36m<cell line: 3>\u001b[0;34m()\u001b[0m\n\u001b[1;32m      1\u001b[0m \u001b[0;31m#x = input('Enter value of x: ')\u001b[0m\u001b[0;34m\u001b[0m\u001b[0;34m\u001b[0m\u001b[0m\n\u001b[1;32m      2\u001b[0m \u001b[0;31m#y = input('Enter value of y: ')\u001b[0m\u001b[0;34m\u001b[0m\u001b[0;34m\u001b[0m\u001b[0m\n\u001b[0;32m----> 3\u001b[0;31m \u001b[0mtemp\u001b[0m \u001b[0;34m=\u001b[0m \u001b[0mx\u001b[0m\u001b[0;34m\u001b[0m\u001b[0;34m\u001b[0m\u001b[0m\n\u001b[0m\u001b[1;32m      4\u001b[0m \u001b[0mx\u001b[0m \u001b[0;34m=\u001b[0m \u001b[0my\u001b[0m\u001b[0;34m\u001b[0m\u001b[0;34m\u001b[0m\u001b[0m\n\u001b[1;32m      5\u001b[0m \u001b[0my\u001b[0m \u001b[0;34m=\u001b[0m  \u001b[0mtemp\u001b[0m\u001b[0;34m\u001b[0m\u001b[0;34m\u001b[0m\u001b[0m\n",
            "\u001b[0;31mNameError\u001b[0m: name 'x' is not defined"
          ]
        }
      ]
    },
    {
      "cell_type": "code",
      "source": [
        "x=int(input('Enter the value:'))\n",
        "y=int(input('Enter the value:'))\n",
        "x,y=y,x\n",
        "print('x=', x)\n",
        "print('y=', y)"
      ],
      "metadata": {
        "colab": {
          "base_uri": "https://localhost:8080/"
        },
        "id": "PiD8KrSpfGw5",
        "outputId": "56c1944a-9afd-410a-bc0a-e21ac8c93ee4"
      },
      "execution_count": null,
      "outputs": [
        {
          "output_type": "stream",
          "name": "stdout",
          "text": [
            "Enter the value:8\n",
            "Enter the value:5\n",
            "x= 5\n",
            "y= 8\n"
          ]
        }
      ]
    },
    {
      "cell_type": "code",
      "source": [
        "x=int(input('enter the value:'))\n",
        "y=int(input('enter the value:'))\n",
        "x,y=y,x\n",
        "print('x=', x)\n",
        "print('y=', y)"
      ],
      "metadata": {
        "colab": {
          "base_uri": "https://localhost:8080/"
        },
        "id": "NvhzqriW8bbl",
        "outputId": "2e0b3dd8-1996-4c22-bbbd-8225ad579d37"
      },
      "execution_count": null,
      "outputs": [
        {
          "output_type": "stream",
          "name": "stdout",
          "text": [
            "enter the value:10\n",
            "enter the value:5\n",
            "x= 5\n",
            "y= 10\n"
          ]
        }
      ]
    },
    {
      "cell_type": "markdown",
      "source": [
        "# **Generate random number**"
      ],
      "metadata": {
        "id": "RiV_eO42gHKX"
      }
    },
    {
      "cell_type": "code",
      "source": [
        "#program to generte a random number between 0 to 8\n",
        "#importing the random module\n",
        "import random\n",
        "print(random.randint(0.8))"
      ],
      "metadata": {
        "colab": {
          "base_uri": "https://localhost:8080/",
          "height": 180
        },
        "id": "1oFXZR3Pf9if",
        "outputId": "50ea6d63-6788-45ac-8447-e363927dfb4c"
      },
      "execution_count": null,
      "outputs": [
        {
          "output_type": "error",
          "ename": "TypeError",
          "evalue": "Random.randint() missing 1 required positional argument: 'b'",
          "traceback": [
            "\u001b[0;31m---------------------------------------------------------------------------\u001b[0m",
            "\u001b[0;31mTypeError\u001b[0m                                 Traceback (most recent call last)",
            "\u001b[0;32m<ipython-input-19-2bdef0f9293d>\u001b[0m in \u001b[0;36m<cell line: 4>\u001b[0;34m()\u001b[0m\n\u001b[1;32m      2\u001b[0m \u001b[0;31m#importing the random module\u001b[0m\u001b[0;34m\u001b[0m\u001b[0;34m\u001b[0m\u001b[0m\n\u001b[1;32m      3\u001b[0m \u001b[0;32mimport\u001b[0m \u001b[0mrandom\u001b[0m\u001b[0;34m\u001b[0m\u001b[0;34m\u001b[0m\u001b[0m\n\u001b[0;32m----> 4\u001b[0;31m \u001b[0mprint\u001b[0m\u001b[0;34m(\u001b[0m\u001b[0mrandom\u001b[0m\u001b[0;34m.\u001b[0m\u001b[0mrandint\u001b[0m\u001b[0;34m(\u001b[0m\u001b[0;36m0.8\u001b[0m\u001b[0;34m)\u001b[0m\u001b[0;34m)\u001b[0m\u001b[0;34m\u001b[0m\u001b[0;34m\u001b[0m\u001b[0m\n\u001b[0m",
            "\u001b[0;31mTypeError\u001b[0m: Random.randint() missing 1 required positional argument: 'b'"
          ]
        }
      ]
    },
    {
      "cell_type": "markdown",
      "source": [
        "# **check num is possitive or negative**"
      ],
      "metadata": {
        "id": "D2OLoCeNg-FX"
      }
    },
    {
      "cell_type": "code",
      "source": [
        "#nested loop\n",
        "num = float(input(\"Enter a number: \"))\n",
        "if num > 0:\n",
        "  print(\"positive number\")\n",
        "elif num == 0:\n",
        "  print(\"zero\")\n",
        "else:\n",
        "  print(\"Negative number\")"
      ],
      "metadata": {
        "colab": {
          "base_uri": "https://localhost:8080/"
        },
        "id": "rPxbLNInggID",
        "outputId": "e91f6957-452b-4c25-cf18-c397303069f3"
      },
      "execution_count": null,
      "outputs": [
        {
          "output_type": "stream",
          "name": "stdout",
          "text": [
            "Enter a number: 0\n",
            "zero\n"
          ]
        }
      ]
    },
    {
      "cell_type": "code",
      "source": [
        "#nested loop\n",
        "num = float(input(\"Enter a number: \"))\n",
        "if num > 0:\n",
        "  print(\"possitive number\")\n",
        "elif num == 0:\n",
        "  print(\"zero\")\n",
        "else:\n",
        "  print(\"Negative number\")\n",
        "\n"
      ],
      "metadata": {
        "colab": {
          "base_uri": "https://localhost:8080/"
        },
        "id": "_4NXjBWHhbH9",
        "outputId": "a416bc7b-b02b-4dc0-bcde-54e26df009fc"
      },
      "execution_count": null,
      "outputs": [
        {
          "output_type": "stream",
          "name": "stdout",
          "text": [
            "Enter a number: 2\n",
            "possitive number\n"
          ]
        }
      ]
    },
    {
      "cell_type": "code",
      "source": [
        "num = float(input(\"Enter a number: \"))\n",
        "if num >=0:\n",
        "  print(\"possitive number\")\n",
        "else:\n",
        "  print(\"Negative number\")"
      ],
      "metadata": {
        "colab": {
          "base_uri": "https://localhost:8080/"
        },
        "id": "dvKGNEI9iBT_",
        "outputId": "07a7707d-0704-43fb-97bb-c277a6a662cf"
      },
      "execution_count": null,
      "outputs": [
        {
          "output_type": "stream",
          "name": "stdout",
          "text": [
            "Enter a number: 8\n",
            "possitive number\n"
          ]
        }
      ]
    },
    {
      "cell_type": "markdown",
      "source": [
        "# **Check odd and even value**"
      ],
      "metadata": {
        "id": "aBoBANfJijBf"
      }
    },
    {
      "cell_type": "code",
      "source": [
        "num = int(input(\"Enter a number: \"))\n",
        "if (num %2) == 0:\n",
        "  print(\"{0} is Even\".format(num))\n",
        "else:\n",
        "  print(\"{0} is odd\".format(num))"
      ],
      "metadata": {
        "colab": {
          "base_uri": "https://localhost:8080/"
        },
        "id": "t8HqCuFBicC6",
        "outputId": "d74c77ff-effe-46f1-893c-25f96f5040d1"
      },
      "execution_count": null,
      "outputs": [
        {
          "output_type": "stream",
          "name": "stdout",
          "text": [
            "Enter a number: 3\n",
            "3 is odd\n"
          ]
        }
      ]
    },
    {
      "cell_type": "code",
      "source": [
        "num = int(input(\"Enter a number: \"))\n",
        "if (num % 2) == 0:\n",
        "  print(\"{0} is Even\".format(num))\n",
        "else:\n",
        "  print(\"{0} is odd\".format(num))"
      ],
      "metadata": {
        "colab": {
          "base_uri": "https://localhost:8080/"
        },
        "id": "tp6csIt7j2Bc",
        "outputId": "c68da5a5-3c50-4e38-ae19-a5160649674e"
      },
      "execution_count": null,
      "outputs": [
        {
          "output_type": "stream",
          "name": "stdout",
          "text": [
            "Enter a number: 6\n",
            "6 is Even\n"
          ]
        }
      ]
    },
    {
      "cell_type": "markdown",
      "source": [
        "# **Leap Year**"
      ],
      "metadata": {
        "id": "UVEZCbxRlCp4"
      }
    },
    {
      "cell_type": "code",
      "source": [
        "year = int(input(\"Enter a year: \"))\n",
        "if (year % 400 == 0) and (year % 100 == 0):\n",
        "  print(\"This is a leap year:\")\n",
        "elif (year % 4 ==0) and (year % 100 != 0):\n",
        "  print(\"This is a leap year:\")\n",
        "else:\n",
        "  print(\"This is a not leap year:\")"
      ],
      "metadata": {
        "colab": {
          "base_uri": "https://localhost:8080/"
        },
        "id": "8JxgOkMOk9ZV",
        "outputId": "f8d5ea2d-56ff-4a31-a97b-3974ae376999"
      },
      "execution_count": null,
      "outputs": [
        {
          "output_type": "stream",
          "name": "stdout",
          "text": [
            "Enter a year: 600\n",
            "This is a not leap year:\n"
          ]
        }
      ]
    },
    {
      "cell_type": "markdown",
      "source": [
        "# **Largest number three numbers**"
      ],
      "metadata": {
        "id": "3oFti3bGmLDQ"
      }
    },
    {
      "cell_type": "code",
      "source": [
        "\n",
        "num1 = float(input(\"Enter first number: \"))\n",
        "num2 = float(input(\"Enter second number: \"))\n",
        "num3 = float(input(\"Enter third number: \"))\n",
        "if (num1 >= num2) and (num1 >= num3):\n",
        "  largest = num1\n",
        "elif (num2 >= num1) and (num2 >= num3):\n",
        "  largest = num2\n",
        "else:\n",
        "  largest = num3\n",
        "  print(\"The largest number is\", largest)\n"
      ],
      "metadata": {
        "colab": {
          "base_uri": "https://localhost:8080/"
        },
        "id": "A7KSsDtFl8UA",
        "outputId": "8335ebb6-ad00-4079-eb49-61e902d8cded"
      },
      "execution_count": null,
      "outputs": [
        {
          "output_type": "stream",
          "name": "stdout",
          "text": [
            "Enter first number: 16\n",
            "Enter second number: 17\n",
            "Enter third number: 18\n",
            "The largest number is 18.0\n"
          ]
        }
      ]
    },
    {
      "cell_type": "markdown",
      "source": [
        "# **Prime number**"
      ],
      "metadata": {
        "id": "7vcKm15ZoW4m"
      }
    },
    {
      "cell_type": "code",
      "source": [
        "num = int(input(\"Enter a number: \"))\n",
        "flag = False\n",
        "if num > 1:\n",
        "  for i in range(2, num):\n",
        "    if (num%i)==0:\n",
        "      flag = True\n",
        "      break\n",
        "if flag:\n",
        "  print(\"This is a not prime number\")\n",
        "else:\n",
        "  print(\"This is a prime number\")"
      ],
      "metadata": {
        "colab": {
          "base_uri": "https://localhost:8080/"
        },
        "id": "bqV6xRfGnbpv",
        "outputId": "889b5dfe-e7ef-4885-f96f-63467d38e323"
      },
      "execution_count": null,
      "outputs": [
        {
          "output_type": "stream",
          "name": "stdout",
          "text": [
            "Enter a number: 7\n",
            "This is a prime number\n"
          ]
        }
      ]
    },
    {
      "cell_type": "markdown",
      "source": [
        "# **Factorial**"
      ],
      "metadata": {
        "id": "jSody0hppqvq"
      }
    },
    {
      "cell_type": "code",
      "source": [
        "num = int(input(\"Enter a number: \"))\n",
        "factorial = 1\n",
        "if num > 0:\n",
        "  print(\"sorry, factorial does not exist for negative numbers\")\n",
        "elif num == 0:\n",
        "  print(\"The factorial of 0 is 1\")\n",
        "else:\n",
        "  for i in range(1,num + 1):\n",
        "    facrorial = factorial*i\n",
        "  print(\"The factorial of\",num,\"is\",factorial)"
      ],
      "metadata": {
        "colab": {
          "base_uri": "https://localhost:8080/"
        },
        "id": "jt7mokDLpZ4J",
        "outputId": "1937e125-adef-461f-98f3-9587c9deec0f"
      },
      "execution_count": null,
      "outputs": [
        {
          "output_type": "stream",
          "name": "stdout",
          "text": [
            "Enter a number: 5\n",
            "sorry, factorial does not exist for negative numbers\n"
          ]
        }
      ]
    },
    {
      "cell_type": "markdown",
      "source": [
        "# **recursion factor number**"
      ],
      "metadata": {
        "id": "8G6XIp5BrCQC"
      }
    },
    {
      "cell_type": "code",
      "source": [
        "def factorial(x):\n",
        "  if x == 1:\n",
        "    return 1\n",
        "  else:\n",
        "    return (x * factorial(x-1))\n",
        "num = int(input(\"Enter a number: \"))\n",
        "result = factorial(num)\n",
        "print(\"The factorial of\", num, \"is\", result)"
      ],
      "metadata": {
        "id": "cT-O48YIqovC",
        "colab": {
          "base_uri": "https://localhost:8080/"
        },
        "outputId": "df91eb5e-eae6-4d47-d937-c082b678e2de"
      },
      "execution_count": null,
      "outputs": [
        {
          "output_type": "stream",
          "name": "stdout",
          "text": [
            "Enter a number: 8\n",
            "The factorial of 8 is 40320\n"
          ]
        }
      ]
    },
    {
      "cell_type": "markdown",
      "source": [
        "# **Amstrong number with n digit**"
      ],
      "metadata": {
        "id": "gVai3wlYvql3"
      }
    },
    {
      "cell_type": "code",
      "source": [
        "# n digit\n",
        "order = len(str(num))\n",
        "sum = 0\n",
        "temp = num\n",
        "while temp > 0:\n",
        "  digit = temp % 10\n",
        "  sum += digit ** order\n",
        "  temp //= 10\n",
        "if num == sum:\n",
        "  print(num,\"is an Armstrong number\")\n",
        "else:\n",
        "  print(num,\"is not an Armstrong number\")"
      ],
      "metadata": {
        "colab": {
          "base_uri": "https://localhost:8080/"
        },
        "id": "47-aV7Upvj7z",
        "outputId": "f4c013e1-1eaa-4aa7-cf63-c1a921fb07dd"
      },
      "execution_count": null,
      "outputs": [
        {
          "output_type": "stream",
          "name": "stdout",
          "text": [
            "8 is an Armstrong number\n"
          ]
        }
      ]
    },
    {
      "cell_type": "code",
      "source": [
        "# 4 digit\n",
        "num=int(input('Enter any num:'))\n",
        "sum=0\n",
        "temp=num\n",
        "while temp>0:\n",
        "  digit=temp%10\n",
        "  sum+=digit**4\n",
        "  temp//=10\n",
        "if num==sum:\n",
        "  print(num,'is an armstrong no')\n",
        "else:\n",
        "  print(num,'is not an armstrong no')"
      ],
      "metadata": {
        "colab": {
          "base_uri": "https://localhost:8080/"
        },
        "id": "1_nq3MU4wT5n",
        "outputId": "6060d573-2c1e-404b-d7eb-6cb43e06fdd8"
      },
      "execution_count": null,
      "outputs": [
        {
          "output_type": "stream",
          "name": "stdout",
          "text": [
            "Enter any num:4\n",
            "4 is not an armstrong no\n"
          ]
        }
      ]
    },
    {
      "cell_type": "code",
      "source": [
        "#armstrong in an interval\n",
        "lower=100\n",
        "upper=2000\n",
        "for num in range(lower,upper+1):\n",
        "  order=len(str(num))\n",
        "  sum=0\n",
        "  temp=num\n",
        "  while temp>0:\n",
        "    digit=temp%10\n",
        "    sum+=digit ** order\n",
        "    temp//=10\n",
        "  if num==sum:\n",
        "    print(num)\n"
      ],
      "metadata": {
        "colab": {
          "base_uri": "https://localhost:8080/"
        },
        "id": "4NWTMTDExFAw",
        "outputId": "f1d7af7d-24c4-4269-9009-ae833a518871"
      },
      "execution_count": null,
      "outputs": [
        {
          "output_type": "stream",
          "name": "stdout",
          "text": [
            "153\n",
            "370\n",
            "371\n",
            "407\n",
            "1634\n"
          ]
        }
      ]
    },
    {
      "cell_type": "markdown",
      "source": [
        "# **sum of natural no**"
      ],
      "metadata": {
        "id": "Xlu3fID10AC3"
      }
    },
    {
      "cell_type": "code",
      "source": [
        "num = int(input(\"Enter the Number:\"))\n",
        "if num < 0:\n",
        "  print(\"Enter a possitive number\")\n",
        "else:\n",
        "  sum = 0\n",
        "  while(num > 0):\n",
        "    sum += num\n",
        "    num -= 1\n",
        "  print(\"The sum of Natural Numbers upto given number is\",sum)"
      ],
      "metadata": {
        "colab": {
          "base_uri": "https://localhost:8080/"
        },
        "id": "REpj6hzRxxXz",
        "outputId": "92c1a084-19b6-4404-e2e8-42f02cebc569"
      },
      "execution_count": null,
      "outputs": [
        {
          "output_type": "stream",
          "name": "stdout",
          "text": [
            "Enter the Number:6\n",
            "The sum of Natural Numbers upto given number is 21\n"
          ]
        }
      ]
    },
    {
      "cell_type": "markdown",
      "source": [
        "# **Fabinacci Series**"
      ],
      "metadata": {
        "id": "aU_WmQqf3JBO"
      }
    },
    {
      "cell_type": "code",
      "source": [
        "nterms=int(input('how amny terms?'))\n",
        "n1,n2=0,1\n",
        "count=0\n",
        "if nterms<=0:\n",
        "  print(\"please enter a possitive integer\")\n",
        "elif nterms==1:\n",
        "  print(\"fibonacci sequence upto\",nterms,\":\")\n",
        "  print(n1)\n",
        "else:\n",
        "  print(\"Fabinacci sequence:\")\n",
        "  while count>nterms:\n",
        "    print(n1)\n",
        "    nth=n1+n2\n",
        "    n1=n2\n",
        "    n2=nth\n",
        "    count +=1\n"
      ],
      "metadata": {
        "id": "WGhJ8Gju08n3",
        "colab": {
          "base_uri": "https://localhost:8080/"
        },
        "outputId": "57af1087-8ced-48e4-f78e-35a4507b4809"
      },
      "execution_count": null,
      "outputs": [
        {
          "output_type": "stream",
          "name": "stdout",
          "text": [
            "how amny terms?5\n",
            "Fabinacci sequence:\n"
          ]
        }
      ]
    },
    {
      "cell_type": "markdown",
      "source": [
        "# **Multiplication table**"
      ],
      "metadata": {
        "id": "0vXb-Ivl4P4K"
      }
    },
    {
      "cell_type": "code",
      "source": [
        "num=int(input('display multiplication table of ?'))\n",
        "for i in range(1,11):\n",
        "  print(num,'x',i,'=',num*i)\n"
      ],
      "metadata": {
        "id": "Oh2BwtIo3_1q",
        "colab": {
          "base_uri": "https://localhost:8080/"
        },
        "outputId": "bd33978e-f665-4924-a201-eda69d45cd48"
      },
      "execution_count": null,
      "outputs": [
        {
          "output_type": "stream",
          "name": "stdout",
          "text": [
            "display multiplication table of ?8\n",
            "8 x 1 = 8\n",
            "8 x 2 = 16\n",
            "8 x 3 = 24\n",
            "8 x 4 = 32\n",
            "8 x 5 = 40\n",
            "8 x 6 = 48\n",
            "8 x 7 = 56\n",
            "8 x 8 = 64\n",
            "8 x 9 = 72\n",
            "8 x 10 = 80\n"
          ]
        }
      ]
    },
    {
      "cell_type": "code",
      "source": [
        "# reverse multiplication table\n",
        "num=int(input('display multiplication table of ?'))\n",
        "for i in range (10,0,-1):\n",
        "  print(num,'x',i,'=',num*i)"
      ],
      "metadata": {
        "colab": {
          "base_uri": "https://localhost:8080/"
        },
        "id": "jeOSJHpcge8Y",
        "outputId": "3ef1c45f-fd3d-4bbc-b98e-f1d4478ccca7"
      },
      "execution_count": null,
      "outputs": [
        {
          "output_type": "stream",
          "name": "stdout",
          "text": [
            "display multiplication table of ?50\n",
            "50 x 10 = 500\n",
            "50 x 9 = 450\n",
            "50 x 8 = 400\n",
            "50 x 7 = 350\n",
            "50 x 6 = 300\n",
            "50 x 5 = 250\n",
            "50 x 4 = 200\n",
            "50 x 3 = 150\n",
            "50 x 2 = 100\n",
            "50 x 1 = 50\n"
          ]
        }
      ]
    },
    {
      "cell_type": "markdown",
      "source": [
        "# **Quadratic equation**"
      ],
      "metadata": {
        "id": "he6egAajhnE4"
      }
    },
    {
      "cell_type": "code",
      "source": [
        "import cmath\n",
        "a=int(input('Enter first value'))\n",
        "b=int(input('Enter the second value:'))\n",
        "c=int(input('Enter third value:'))\n",
        "d=(b**2)-(4*a*c)\n",
        "sol1=(-b-cmath.sqrt(d))/(2*a)\n",
        "sol2=(-b+cmath.sqrt(d))/(2*a)\n",
        "print('quadratic eq',sol1,sol2)"
      ],
      "metadata": {
        "colab": {
          "base_uri": "https://localhost:8080/"
        },
        "id": "C6cIHrBKhcT5",
        "outputId": "ea83173c-9141-4cf4-9e7a-16f8922041eb"
      },
      "execution_count": null,
      "outputs": [
        {
          "output_type": "stream",
          "name": "stdout",
          "text": [
            "Enter first value1\n",
            "Enter the second value:5\n",
            "Enter third value:6\n",
            "quadratic eq (-3+0j) (-2+0j)\n"
          ]
        }
      ]
    },
    {
      "cell_type": "markdown",
      "source": [
        "# **convert miles to kilometers**"
      ],
      "metadata": {
        "id": "5Cl7spgwi1no"
      }
    },
    {
      "cell_type": "code",
      "source": [
        "miles=float(input(\"enter the value in miles:\"))\n",
        "fact=0.62171\n",
        "km=miles/0.62171\n",
        "print('kilometer',km)"
      ],
      "metadata": {
        "colab": {
          "base_uri": "https://localhost:8080/"
        },
        "id": "qwEP_3aSij5a",
        "outputId": "11dbec2e-0152-4dc1-e4a9-f60f7d48d609"
      },
      "execution_count": null,
      "outputs": [
        {
          "output_type": "stream",
          "name": "stdout",
          "text": [
            "enter the value in miles:6\n",
            "kilometer 9.65080182078461\n"
          ]
        }
      ]
    },
    {
      "cell_type": "markdown",
      "source": [
        "# **convert kilometers to miles**"
      ],
      "metadata": {
        "id": "XZm6RhsGjWxw"
      }
    },
    {
      "cell_type": "code",
      "source": [
        "kilometers=float(input(\"enter the value in kilometers:\"))\n",
        "fact=0.62171\n",
        "miles=kilometers*0.621371\n",
        "print(\"miles\",miles)\n"
      ],
      "metadata": {
        "colab": {
          "base_uri": "https://localhost:8080/"
        },
        "id": "8SI0Rh_rjHG9",
        "outputId": "89dc2789-188b-4f4e-e46e-0150cb117bda"
      },
      "execution_count": null,
      "outputs": [
        {
          "output_type": "stream",
          "name": "stdout",
          "text": [
            "enter the value in kilometers:8\n",
            "miles 4.970968\n"
          ]
        }
      ]
    },
    {
      "cell_type": "markdown",
      "source": [
        "# **Celsius to Fahrenheit**"
      ],
      "metadata": {
        "id": "eZVDWx-MkzHw"
      }
    },
    {
      "cell_type": "code",
      "source": [
        "celsius=36.5\n",
        "f=(celsius*1.8)+32\n",
        "print('Fahrenheit',f)"
      ],
      "metadata": {
        "colab": {
          "base_uri": "https://localhost:8080/"
        },
        "id": "35BleytfkrJZ",
        "outputId": "a15db314-5d58-446a-fa1e-ccc0dc1fdca4"
      },
      "execution_count": null,
      "outputs": [
        {
          "output_type": "stream",
          "name": "stdout",
          "text": [
            "Fahrenheit 97.7\n"
          ]
        }
      ]
    },
    {
      "cell_type": "code",
      "source": [],
      "metadata": {
        "id": "JdRLRKLelGgP"
      },
      "execution_count": null,
      "outputs": []
    }
  ]
}