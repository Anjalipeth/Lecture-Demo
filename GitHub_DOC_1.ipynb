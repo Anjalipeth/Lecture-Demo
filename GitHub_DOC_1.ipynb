{
  "nbformat": 4,
  "nbformat_minor": 0,
  "metadata": {
    "colab": {
      "provenance": [],
      "authorship_tag": "ABX9TyNMtl4RgiKRBvQO+XyI00nA",
      "include_colab_link": true
    },
    "kernelspec": {
      "name": "python3",
      "display_name": "Python 3"
    },
    "language_info": {
      "name": "python"
    }
  },
  "cells": [
    {
      "cell_type": "markdown",
      "metadata": {
        "id": "view-in-github",
        "colab_type": "text"
      },
      "source": [
        "<a href=\"https://colab.research.google.com/github/Anjalipeth/Lecture-Demo/blob/main/GitHub_DOC_1.ipynb\" target=\"_parent\"><img src=\"https://colab.research.google.com/assets/colab-badge.svg\" alt=\"Open In Colab\"/></a>"
      ]
    },
    {
      "cell_type": "markdown",
      "source": [
        "# **GitHub DOC**"
      ],
      "metadata": {
        "id": "5G8Q9D--PKzK"
      }
    },
    {
      "cell_type": "markdown",
      "source": [
        "**Creating an account on GitHub**"
      ],
      "metadata": {
        "id": "wGJaOUXNPSu5"
      }
    },
    {
      "cell_type": "markdown",
      "source": [
        "\n",
        "\n",
        "* click sign up\n",
        "* Follow the prompts to create your personal accounts\n",
        "\n"
      ],
      "metadata": {
        "id": "1q6k3d77PmNp"
      }
    },
    {
      "cell_type": "markdown",
      "source": [
        "**About GitHub and Git**"
      ],
      "metadata": {
        "id": "-Yy3fkEOP134"
      }
    },
    {
      "cell_type": "markdown",
      "source": [
        "GitHub is a cloud-based platform where you can store, share and work toghether with others to write code."
      ],
      "metadata": {
        "id": "YbaBmOjoQDcg"
      }
    },
    {
      "cell_type": "markdown",
      "source": [
        "\n",
        "\n",
        "*  Showcase or share your work.\n",
        "\n",
        "*  Track and mange change to your code over time.\n",
        "\n",
        "*  Let others review your code and make suggestions to imporve it.\n",
        "\n",
        "*  Collabrate on a shared project, without worrying that your changes will impact the work of your collabrators before you're ready to integrate them.  \n",
        "\n",
        "\n",
        "*   List item\n",
        "\n"
      ],
      "metadata": {
        "id": "ueDb5fxQQYbY"
      }
    },
    {
      "cell_type": "markdown",
      "source": [
        " **About Git**"
      ],
      "metadata": {
        "id": "tfzLqUA7RpP9"
      }
    },
    {
      "cell_type": "markdown",
      "source": [
        "Git is a version control system that intelligently tracks changes in flies. Git is perticular useful when you and a group of people are all making changes to the same files at  the same time."
      ],
      "metadata": {
        "id": "V6Yfhx7zZVas"
      }
    },
    {
      "cell_type": "markdown",
      "source": [
        "\n",
        "\n",
        "* Create branch off from the main copy of files that you are working on.\n",
        "\n",
        "* Make edits to the files independently and safely on your own personal branch.\n",
        "\n",
        "* Let, Git intelligently merge your specific changes back into to the main copy of files, so that your changes don't impact other people's updates.\n",
        "\n",
        "* let Git keep track of your and other people's changes, so you all stay working on the most up-to-date version of the project.\n",
        "\n",
        "\n",
        "\n"
      ],
      "metadata": {
        "id": "Qw-hVPCndzEu"
      }
    },
    {
      "cell_type": "markdown",
      "source": [
        "# **How do Git and  GitHub  work  together?**"
      ],
      "metadata": {
        "id": "J7LZHVQ1dzBX"
      }
    },
    {
      "cell_type": "markdown",
      "source": [
        "when you upload files to GitHub , you'll store them in a \"Git repository\". This means store them you make changes(or\"commits\") to  your files in GitHub , Git will automatically start to track and mange your change.\n",
        "\n",
        "There are plenty of Git-related actions that you can complete on GitHub directly in your browser, such as creating branches and uploading and editing files.\n",
        "\n",
        "However, most people work on their files locally, then continually sync. these local changes- and all the related Git data-with the cintral \"remote\" repository on GitHub.\n",
        "\n",
        "There are plenty of tools that you can use to do this, such as GitHub Desktop.\n",
        "\n",
        "Once you start to collborate with others and all need to work on work on the same repository at the same time, you'll continually.\n",
        "\n"
      ],
      "metadata": {
        "id": "QF5mPXG2hIxA"
      }
    },
    {
      "cell_type": "markdown",
      "source": [
        "\n",
        "* **Pull** at the letest changes made by your collborate from the remote repository on GitHub.\n",
        "\n",
        "* **Push** back your own changes to the same remote repository on GitHub.\n",
        "\n",
        "\n",
        "\n",
        "\n",
        "\n"
      ],
      "metadata": {
        "id": "3VkeXLbPhJGi"
      }
    },
    {
      "cell_type": "markdown",
      "source": [
        "# **Where do I Start?**"
      ],
      "metadata": {
        "id": "jgorEkghhItj"
      }
    },
    {
      "cell_type": "markdown",
      "source": [
        "\n",
        "\n",
        "* **Create an account** on GitHub.\n",
        "* Learn the **\"GitHub Flow\"**, and the key princeple of collaborative working\n",
        "**(branches, commits,pull requests,merge)**\n",
        "\n",
        "* **Personlise your profile** to share your intrests and skills.\n",
        "* **Explore GitHub** to find inspiration for your own projects and connect with others.\n",
        "\n",
        "* Learn how to download intresting code for your own use.\n",
        "* Learn how to upload something you're working on to a GitHub repository.\n",
        "\n",
        "\n",
        "\n",
        "\n",
        "\n"
      ],
      "metadata": {
        "id": "XWMozdcGkQNR"
      }
    },
    {
      "cell_type": "code",
      "source": [],
      "metadata": {
        "id": "AfgLZD-pP0xa"
      },
      "execution_count": null,
      "outputs": []
    },
    {
      "cell_type": "markdown",
      "source": [],
      "metadata": {
        "id": "hormra7dkNmS"
      }
    },
    {
      "cell_type": "code",
      "source": [],
      "metadata": {
        "id": "ITr5lxvLdxuO"
      },
      "execution_count": null,
      "outputs": []
    }
  ]
}